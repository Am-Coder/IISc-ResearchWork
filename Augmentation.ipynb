{
 "cells": [
  {
   "cell_type": "code",
   "execution_count": 1,
   "metadata": {},
   "outputs": [],
   "source": [
    "import numpy as np\n",
    "import pandas as pd\n",
    "from scipy import signal\n",
    "import matplotlib.pyplot as plt\n",
    "import csv"
   ]
  },
  {
   "cell_type": "code",
   "execution_count": 2,
   "metadata": {},
   "outputs": [],
   "source": [
    "source = 'E:/games/IISc-May-2019/HAPT Data Set/SpectroSet/'\n",
    "dest = 'E:/games/IISc-May-2019/HAPT Data Set/AugmentedData/'\n",
    "fs = 50"
   ]
  },
  {
   "cell_type": "code",
   "execution_count": 4,
   "metadata": {},
   "outputs": [
    {
     "name": "stdout",
     "output_type": "stream",
     "text": [
      "1\n"
     ]
    },
    {
     "name": "stderr",
     "output_type": "stream",
     "text": [
      "C:\\Users\\HP\\Anaconda3\\lib\\site-packages\\ipykernel_launcher.py:22: DeprecationWarning: \n",
      ".ix is deprecated. Please use\n",
      ".loc for label based indexing or\n",
      ".iloc for positional indexing\n",
      "\n",
      "See the documentation here:\n",
      "http://pandas.pydata.org/pandas-docs/stable/indexing.html#ix-indexer-is-deprecated\n"
     ]
    },
    {
     "name": "stdout",
     "output_type": "stream",
     "text": [
      "2\n",
      "3\n",
      "4\n",
      "5\n",
      "6\n",
      "7\n",
      "8\n",
      "9\n",
      "10\n",
      "11\n",
      "12\n"
     ]
    }
   ],
   "source": [
    "for i in range(1,13):\n",
    "    print(i)\n",
    "    file = source + str(i) + '_SpectroFeatures.csv'\n",
    "    df = pd.read_csv(file,header=None)\n",
    "#     print(df.shape)\n",
    "    x = df.rolling(4).mean()\n",
    "    x.dropna(inplace=True)\n",
    "#     print(x.shape)\n",
    "    df = df.append(x)\n",
    "#     print(df.shape)\n",
    "    df = df.sample(frac=1).reset_index(drop=True)\n",
    "    x = df.rolling(2).mean()\n",
    "    x.dropna(inplace=True)\n",
    "    df = df.append(x)\n",
    "    df = df.reset_index(drop=True)\n",
    "\n",
    "#     print(df.shape)\n",
    "\n",
    "    with open (dest+str(i)+'_AugSpectroFeatures.csv','a',newline='') as out_file:\n",
    "        writer = csv.writer(out_file)\n",
    "        for j in range(df.shape[0]):\n",
    "            k = df.ix[j]\n",
    "            writer.writerow(np.concatenate((k,[i])))\n"
   ]
  },
  {
   "cell_type": "code",
   "execution_count": 37,
   "metadata": {},
   "outputs": [],
   "source": [
    "# print(df)\n",
    "# print(df.ix[0,][0])\n",
    "\n",
    "# for i in range(df.shape[1]):\n",
    "# z = df.ix[3]\n",
    "# z.append(1)\n",
    "# print(z)\n",
    "# print(x.ix[4])"
   ]
  },
  {
   "cell_type": "code",
   "execution_count": null,
   "metadata": {},
   "outputs": [],
   "source": []
  }
 ],
 "metadata": {
  "kernelspec": {
   "display_name": "Python 3",
   "language": "python",
   "name": "python3"
  },
  "language_info": {
   "codemirror_mode": {
    "name": "ipython",
    "version": 3
   },
   "file_extension": ".py",
   "mimetype": "text/x-python",
   "name": "python",
   "nbconvert_exporter": "python",
   "pygments_lexer": "ipython3",
   "version": "3.6.8"
  }
 },
 "nbformat": 4,
 "nbformat_minor": 2
}
