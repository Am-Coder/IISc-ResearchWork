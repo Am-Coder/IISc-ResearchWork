{
 "cells": [
  {
   "cell_type": "code",
   "execution_count": 8,
   "metadata": {},
   "outputs": [],
   "source": [
    "import pandas as pd\n",
    "import numpy as np\n",
    "from sklearn.metrics import confusion_matrix \n",
    "from sklearn.model_selection import train_test_split\n",
    "from sklearn.tree import DecisionTreeClassifier \n",
    "from sklearn import preprocessing\n"
   ]
  },
  {
   "cell_type": "code",
   "execution_count": 9,
   "metadata": {},
   "outputs": [
    {
     "name": "stdout",
     "output_type": "stream",
     "text": [
      "(6068, 200)\n"
     ]
    }
   ],
   "source": [
    "df = pd.read_csv(\"E:/games/IISc-May-2019/HAPT Data Set/FeatureSet/200feature_Dataset.csv\",header=None)\n",
    "y = df.loc[:,200]\n",
    "X = df.loc[:,0:199]\n",
    "# y = df.loc[:,100]\n",
    "# X = df.loc[:,0:99]\n",
    "# X.loc[:,:49] = X.loc[:,:49]*1e5        #Scaling \n",
    "# X.loc[:,100:149] = X.loc[:,100:149]*1e5    #Scaling\n",
    "min_max_scaler = preprocessing.MinMaxScaler()\n",
    "standard_scaler = preprocessing.StandardScaler()\n",
    "X = standard_scaler.fit_transform(X)\n",
    "\n",
    "\n",
    "\n",
    "\n",
    "\n",
    "uci_X = pd.read_csv(\"E:/games/IISc-May-2019/HAPT Data Set/Train/X_train.csv\")\n",
    "uci_y = pd.read_csv(\"E:/games/IISc-May-2019/HAPT Data Set/Train/y_train.csv\")\n",
    "# uci_X = uci_X.sample(frac=1).reset_index(drop=True)\n",
    "# uci_y = uci_y.sample(frac=1).reset_index(drop=True)\n",
    "uci_X = uci_X.loc[0:5000,:]\n",
    "uci_y = uci_y.loc[0:5000,:]\n",
    "\n",
    "\n",
    "# wong = pd.read_csv(\"E:/games/IISc-May-2019/wong/FeatureSet/Dataset.csv\",header=None) # Wong is useless\n",
    "# wong_X = wong.loc[:,0:99]\n",
    "# wong_y = wong.loc[:,100] \n",
    "\n",
    "\n",
    "\n",
    "\n",
    "print(X.shape)\n",
    "# print(X.head(10))"
   ]
  },
  {
   "cell_type": "code",
   "execution_count": 13,
   "metadata": {
    "scrolled": true
   },
   "outputs": [
    {
     "name": "stdout",
     "output_type": "stream",
     "text": [
      "(243,) (5825,)\n"
     ]
    }
   ],
   "source": [
    "X_train, X_test, y_train, y_test = train_test_split(X, y, train_size=0.96, shuffle=True) \n",
    "print(y_test.shape,y_train.shape)"
   ]
  },
  {
   "cell_type": "code",
   "execution_count": 14,
   "metadata": {},
   "outputs": [
    {
     "name": "stdout",
     "output_type": "stream",
     "text": [
      "0.3950617283950617\n"
     ]
    },
    {
     "data": {
      "text/plain": [
       "array([[29,  0,  2,  0,  0,  0,  0,  0,  0,  0,  0,  0],\n",
       "       [11,  0,  3,  0,  0,  0,  0,  0,  0,  0,  0,  0],\n",
       "       [ 5,  0, 17,  0,  0,  0,  0,  0,  0,  0,  0,  0],\n",
       "       [ 0,  0,  0,  0, 41,  4,  0,  0,  0,  0,  0,  0],\n",
       "       [ 1,  0,  0,  0, 36,  1,  0,  0,  0,  0,  0,  0],\n",
       "       [ 0,  0,  1,  0, 32, 14,  0,  0,  0,  0,  0,  0],\n",
       "       [ 1,  0, 10,  0,  0,  0,  0,  0,  0,  0,  0,  0],\n",
       "       [ 2,  0,  4,  0,  0,  0,  0,  0,  0,  0,  0,  0],\n",
       "       [ 0,  0,  6,  0,  0,  0,  0,  0,  0,  0,  0,  0],\n",
       "       [ 0,  0,  8,  0,  0,  0,  0,  0,  0,  0,  0,  0],\n",
       "       [ 0,  0,  6,  0,  0,  0,  0,  0,  0,  0,  0,  0],\n",
       "       [ 0,  0,  9,  0,  0,  0,  0,  0,  0,  0,  0,  0]], dtype=int64)"
      ]
     },
     "execution_count": 14,
     "metadata": {},
     "output_type": "execute_result"
    }
   ],
   "source": [
    "dtree_model = DecisionTreeClassifier(max_depth = 2).fit(X_train, y_train) \n",
    "dtree_predictions = dtree_model.predict(X_test) \n",
    "accuracy = dtree_model.score(X_test, y_test) \n",
    "\n",
    "# creating a confusion matrix \n",
    "cm = confusion_matrix(y_test, dtree_predictions)\n",
    "\n",
    "print(accuracy)\n",
    "cm"
   ]
  },
  {
   "cell_type": "code",
   "execution_count": 16,
   "metadata": {},
   "outputs": [
    {
     "name": "stdout",
     "output_type": "stream",
     "text": [
      "0.8171673819742489\n",
      "0.7695473251028807\n"
     ]
    },
    {
     "data": {
      "text/plain": [
       "array([[31,  0,  0,  0,  0,  0,  0,  0,  0,  0,  0,  0],\n",
       "       [ 0, 14,  0,  0,  0,  0,  0,  0,  0,  0,  0,  0],\n",
       "       [ 0,  2, 20,  0,  0,  0,  0,  0,  0,  0,  0,  0],\n",
       "       [ 0,  0,  0, 24, 20,  1,  0,  0,  0,  0,  0,  0],\n",
       "       [ 0,  0,  0,  0, 36,  2,  0,  0,  0,  0,  0,  0],\n",
       "       [ 0,  0,  0,  9, 20, 18,  0,  0,  0,  0,  0,  0],\n",
       "       [ 0,  0,  0,  0,  0,  0, 11,  0,  0,  0,  0,  0],\n",
       "       [ 0,  0,  0,  0,  0,  0,  0,  6,  0,  0,  0,  0],\n",
       "       [ 0,  0,  0,  0,  0,  0,  0,  1,  5,  0,  0,  0],\n",
       "       [ 0,  0,  0,  0,  0,  0,  0,  0,  0,  8,  0,  0],\n",
       "       [ 0,  0,  0,  0,  0,  0,  0,  0,  0,  0,  6,  0],\n",
       "       [ 0,  0,  0,  0,  0,  0,  0,  0,  0,  0,  1,  8]], dtype=int64)"
      ]
     },
     "execution_count": 16,
     "metadata": {},
     "output_type": "execute_result"
    }
   ],
   "source": [
    "from sklearn.svm import SVC \n",
    "svm_model_linear = SVC(kernel = 'linear', C = 10).fit(X_train, y_train)  #lesser the c hyperparameter , softer the margin\n",
    "                                                                            #higher c means hard margin\n",
    "    \n",
    "    \n",
    "# svm_model_linear = SVC(kernel = 'poly', degree=3, coef0=100, C = 5).fit(X_train, y_train)#coef0 controls how much our model is \n",
    "                                                                            #influenced by high degree poly vs low degree poly\n",
    "svm_predictions = svm_model_linear.predict(X_test) \n",
    "  \n",
    "# model accuracy for X_test   \n",
    "accuracy = svm_model_linear.score(X_test, y_test) \n",
    "  \n",
    "# training accuracy\n",
    "taccu = svm_model_linear.score(X_train, y_train)\n",
    "\n",
    "# creating a confusion matrix \n",
    "cm = confusion_matrix(y_test, svm_predictions)\n",
    "\n",
    "print(taccu)\n",
    "print(accuracy)\n",
    "\n",
    "cm"
   ]
  },
  {
   "cell_type": "code",
   "execution_count": 17,
   "metadata": {},
   "outputs": [
    {
     "name": "stdout",
     "output_type": "stream",
     "text": [
      "0.8401716738197424\n",
      "0.7901234567901234\n"
     ]
    },
    {
     "data": {
      "text/plain": [
       "array([[29,  2,  0,  0,  0,  0,  0,  0,  0,  0,  0,  0],\n",
       "       [ 1,  9,  4,  0,  0,  0,  0,  0,  0,  0,  0,  0],\n",
       "       [ 1,  3, 18,  0,  0,  0,  0,  0,  0,  0,  0,  0],\n",
       "       [ 0,  0,  0, 31,  7,  7,  0,  0,  0,  0,  0,  0],\n",
       "       [ 0,  0,  0,  4, 32,  2,  0,  0,  0,  0,  0,  0],\n",
       "       [ 0,  0,  0,  6,  6, 35,  0,  0,  0,  0,  0,  0],\n",
       "       [ 0,  0,  0,  0,  0,  0, 10,  1,  0,  0,  0,  0],\n",
       "       [ 0,  2,  0,  0,  0,  0,  0,  4,  0,  0,  0,  0],\n",
       "       [ 0,  0,  0,  0,  0,  0,  0,  0,  4,  1,  1,  0],\n",
       "       [ 0,  0,  0,  0,  0,  0,  0,  0,  1,  6,  0,  1],\n",
       "       [ 0,  0,  0,  0,  0,  0,  0,  0,  0,  0,  6,  0],\n",
       "       [ 0,  0,  0,  0,  0,  0,  0,  0,  0,  0,  1,  8]], dtype=int64)"
      ]
     },
     "execution_count": 17,
     "metadata": {},
     "output_type": "execute_result"
    }
   ],
   "source": [
    "# training a KNN classifier \n",
    "from sklearn.neighbors import KNeighborsClassifier \n",
    "knn = KNeighborsClassifier(n_neighbors = 7).fit(X_train, y_train) \n",
    "\n",
    "cm = confusion_matrix(y_test, knn.predict(X_test))\n",
    "\n",
    "# training accuracy\n",
    "taccu = knn.score(X_train, y_train)\n",
    "\n",
    "# accuracy on X_test\n",
    "accuracy = knn.score(X_test, y_test)\n",
    "\n",
    "print(taccu)\n",
    "print(accuracy)\n",
    "cm"
   ]
  },
  {
   "cell_type": "code",
   "execution_count": null,
   "metadata": {},
   "outputs": [],
   "source": [
    "# training a Naive Bayes classifier \n",
    "from sklearn.naive_bayes import GaussianNB \n",
    "gnb = GaussianNB().fit(X_train, y_train) \n",
    "gnb_predictions = gnb.predict(X_test) \n",
    "\n",
    "# training accuracy\n",
    "taccu = gnb.score(X_train, y_train)\n",
    "\n",
    "# accuracy on X_test \n",
    "accuracy = gnb.score(X_test, y_test) \n",
    "\n",
    "print(taccu)\n",
    "print(accuracy) "
   ]
  },
  {
   "cell_type": "code",
   "execution_count": null,
   "metadata": {},
   "outputs": [],
   "source": [
    "from sklearn.multiclass import OneVsRestClassifier\n",
    "from sklearn.svm import LinearSVC\n",
    "clf = OneVsRestClassifier(LinearSVC(random_state=0)).fit(X_train, y_train)\n",
    "clf_predictions = clf.predict(X_test)\n",
    "\n",
    "# training accuracy\n",
    "taccu = clf.score(X_train, y_train)\n",
    "\n",
    "\n",
    "# accuracy on X_test \n",
    "cm = confusion_matrix(y_test, clf_predictions)\n",
    "accu = clf.score( X_test, y_test )\n",
    "\n",
    "\n",
    "print(taccu)\n",
    "print(accu)\n",
    "cm"
   ]
  },
  {
   "cell_type": "code",
   "execution_count": null,
   "metadata": {},
   "outputs": [],
   "source": [
    "from sklearn import linear_model\n",
    "clf = linear_model.SGDClassifier(max_iter=4000, tol=1e-3)\n",
    "clf.fit( X_train, y_train )\n",
    "\n",
    "# training accuracy\n",
    "taccu = clf.score(X_train, y_train)\n",
    "\n",
    "\n",
    "# accuracy on X_test \n",
    "cm = confusion_matrix(y_test, clf_predictions)\n",
    "accu = clf.score( X_test, y_test )\n",
    "\n",
    "\n",
    "print(taccu)\n",
    "print(accu)\n",
    "cm"
   ]
  },
  {
   "cell_type": "code",
   "execution_count": null,
   "metadata": {},
   "outputs": [],
   "source": [
    "from sklearn.multiclass import OneVsRestClassifier\n",
    "from sklearn import linear_model\n",
    "clf = OneVsRestClassifier(linear_model.SGDClassifier(max_iter=4000, tol=1e-3))\n",
    "clf.fit( X_train, y_train )\n",
    "\n",
    "# training accuracy\n",
    "taccu = clf.score(X_train, y_train)\n",
    "\n",
    "\n",
    "# accuracy on X_test \n",
    "cm = confusion_matrix(y_test, clf_predictions)\n",
    "accu = clf.score( X_test, y_test )\n",
    "\n",
    "\n",
    "print(taccu)\n",
    "print(accu)\n",
    "cm"
   ]
  },
  {
   "cell_type": "code",
   "execution_count": null,
   "metadata": {},
   "outputs": [],
   "source": []
  }
 ],
 "metadata": {
  "kernelspec": {
   "display_name": "Python 3",
   "language": "python",
   "name": "python3"
  },
  "language_info": {
   "codemirror_mode": {
    "name": "ipython",
    "version": 3
   },
   "file_extension": ".py",
   "mimetype": "text/x-python",
   "name": "python",
   "nbconvert_exporter": "python",
   "pygments_lexer": "ipython3",
   "version": "3.6.8"
  }
 },
 "nbformat": 4,
 "nbformat_minor": 2
}
