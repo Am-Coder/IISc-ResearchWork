{
 "cells": [
  {
   "cell_type": "code",
   "execution_count": 18,
   "metadata": {},
   "outputs": [],
   "source": [
    "import numpy as np\n",
    "import pandas as pd\n",
    "from scipy import signal\n",
    "import matplotlib.pyplot as plt\n",
    "import csv"
   ]
  },
  {
   "cell_type": "code",
   "execution_count": 19,
   "metadata": {},
   "outputs": [],
   "source": [
    "acc = '_acc'\n",
    "gyro = '_gyro'\n",
    "source = 'E:/games/IISc-May-2019/HAPT Data Set/MyLab/'\n",
    "dest = 'E:/games/IISc-May-2019/HAPT Data Set/FeatureSet/'\n",
    "fs =50\n"
   ]
  },
  {
   "cell_type": "code",
   "execution_count": 21,
   "metadata": {},
   "outputs": [],
   "source": [
    "for i in range(1,13):\n",
    "    accfile = source + str(i) + acc + '.csv'\n",
    "    gyrofile = source + str(i) + gyro + '.csv'\n",
    "    df1 = pd.read_csv(accfile)\n",
    "    df2 = pd.read_csv(gyrofile)\n",
    "    ax = df1['ax']\n",
    "    ay = df1['ay']\n",
    "    az = df1['az']\n",
    "    wx = df2['wx']\n",
    "    wy = df2['wy']\n",
    "    wz = df2['wz']\n",
    "    \n",
    "    Afx, Atx, Ax = signal.stft(ax, fs=fs,window=signal.get_window('hann',512),noverlap=256,nperseg=512,boundary='zeros',padded=True)\n",
    "    Afy, Aty, Ay = signal.stft(ay, fs=fs,window=signal.get_window('hann',512),noverlap=256,nperseg=512,boundary='zeros',padded=True)\n",
    "    Afz, Atz, Az = signal.stft(az, fs=fs,window=signal.get_window('hann',512),noverlap=256,nperseg=512,boundary='zeros',padded=True)\n",
    "    \n",
    "    Wfx, Wtx, Wx = signal.stft(wx, fs=fs,window=signal.get_window('hann',512),noverlap=256,nperseg=512,boundary='zeros',padded=True)\n",
    "    Wfy, Wty, Wy = signal.stft(wy, fs=fs,window=signal.get_window('hann',512),noverlap=256,nperseg=512,boundary='zeros',padded=True)\n",
    "    Wfz, Wtz, Wz = signal.stft(wz, fs=fs,window=signal.get_window('hann',512),noverlap=256,nperseg=512,boundary='zeros',padded=True)\n",
    "    \n",
    "    resA = np.concatenate((Ax*Ax, Ay*Ay, Az*Az), axis = 1)\n",
    "    resW = np.concatenate((Wx*Wx, Wy*Wy, Wz*Wz), axis = 1)\n",
    "    for j in range(resA.shape[0]):\n",
    "        sA = sorted(resA[j])\n",
    "        sW = sorted(resW[j])\n",
    "        featureAcc = sA[0:25] + sA[resA.shape[1]-25:resA.shape[1]]\n",
    "        featureGyr = sW[0:25] + sW[resA.shape[1]-25:resA.shape[1]]\n",
    "        final = np.concatenate((featureAcc,featureGyr,[i]))\n",
    "#         final.append(i)\n",
    "#         print(len(final))\n",
    "        with open (dest+'ZeroPadNoAugFeatures.csv','a',newline='') as out_file:\n",
    "            writer = csv.writer(out_file)\n",
    "            writer.writerow(final)\n"
   ]
  },
  {
   "cell_type": "code",
   "execution_count": 12,
   "metadata": {},
   "outputs": [],
   "source": [
    "# print(Ax.shape)\n",
    "# print(Ay.shape)\n",
    "# a = np.array([1,2,3])\n",
    "# b = np.array([4,5,6])\n",
    "# z = 1\n",
    "# res = np.concatenate((a,b,[z]))\n",
    "# print(res)\n",
    "# print(resA[0].shape,resW.shape)\n",
    "# for i in range(resA.shape[0]):\n",
    "#     sorted(resA)\n",
    "#     print(sorted(resA[i])[0:20])"
   ]
  },
  {
   "cell_type": "code",
   "execution_count": null,
   "metadata": {},
   "outputs": [],
   "source": []
  }
 ],
 "metadata": {
  "kernelspec": {
   "display_name": "Python 3",
   "language": "python",
   "name": "python3"
  },
  "language_info": {
   "codemirror_mode": {
    "name": "ipython",
    "version": 3
   },
   "file_extension": ".py",
   "mimetype": "text/x-python",
   "name": "python",
   "nbconvert_exporter": "python",
   "pygments_lexer": "ipython3",
   "version": "3.6.8"
  }
 },
 "nbformat": 4,
 "nbformat_minor": 2
}
