{
 "cells": [
  {
   "cell_type": "code",
   "execution_count": 6,
   "metadata": {},
   "outputs": [],
   "source": [
    "import numpy as np\n",
    "import pandas as pd\n",
    "from scipy import signal\n",
    "import matplotlib.pyplot as plt\n",
    "import csv"
   ]
  },
  {
   "cell_type": "code",
   "execution_count": 7,
   "metadata": {},
   "outputs": [],
   "source": [
    "acc = '_acc'\n",
    "gyro = '_gyro'\n",
    "source = 'E:/games/IISc-May-2019/HAPT Data Set/MyLab/'\n",
    "dest = 'E:/games/IISc-May-2019/HAPT Data Set/SpectroSet/'\n",
    "fs = 50"
   ]
  },
  {
   "cell_type": "code",
   "execution_count": 9,
   "metadata": {},
   "outputs": [],
   "source": [
    "for i in range(1,13):\n",
    "    accfile = source + str(i) + acc + '.csv'\n",
    "    gyrofile = source + str(i) + gyro + '.csv'\n",
    "    df1 = pd.read_csv(accfile)\n",
    "    df2 = pd.read_csv(gyrofile)\n",
    "    ax = df1['ax']\n",
    "    ay = df1['ay']\n",
    "    az = df1['az']\n",
    "    wx = df2['wx']\n",
    "    wy = df2['wy']\n",
    "    wz = df2['wz']\n",
    "    \n",
    "    Afx, Atx, Ax = signal.spectrogram(ax, fs=fs,window=signal.get_window('hann',512),noverlap=256,nperseg=512)\n",
    "    Afy, Aty, Ay = signal.spectrogram(ay, fs=fs,window=signal.get_window('hann',512),noverlap=256,nperseg=512)\n",
    "    Afz, Atz, Az = signal.spectrogram(az, fs=fs,window=signal.get_window('hann',512),noverlap=256,nperseg=512)\n",
    "    \n",
    "    Wfx, Wtx, Wx = signal.spectrogram(wx, fs=fs,window=signal.get_window('hann',512),noverlap=256,nperseg=512)\n",
    "    Wfy, Wty, Wy = signal.spectrogram(wy, fs=fs,window=signal.get_window('hann',512),noverlap=256,nperseg=512)\n",
    "    Wfz, Wtz, Wz = signal.spectrogram(wz, fs=fs,window=signal.get_window('hann',512),noverlap=256,nperseg=512)\n",
    "    \n",
    "#     print(Ax.T.shape)\n",
    "#     print(Ax.shape)\n",
    "    Ax = Ax.T\n",
    "    Ay = Ay.T\n",
    "    Az = Az.T\n",
    "    Wx = Wx.T\n",
    "    Wy = Wy.T\n",
    "    Wz = Wz.T\n",
    "    \n",
    "    resA = np.concatenate((Ax, Ay, Az), axis = 1)\n",
    "    resW = np.concatenate((Wx, Wy, Wz), axis = 1)\n",
    "    for j in range(resA.shape[0]):\n",
    "        sA = sorted(resA[j])\n",
    "        sW = sorted(resW[j])\n",
    "        featureAcc = sA[0:25] + sA[resA.shape[1]-25:resA.shape[1]]\n",
    "        featureGyr = sW[0:25] + sW[resA.shape[1]-25:resA.shape[1]]\n",
    "        final = np.concatenate((featureAcc,featureGyr))\n",
    "#         final.append(i)\n",
    "#         print(len(final))\n",
    "        with open (dest+str(i)+'_SpectroFeatures.csv','a',newline='') as out_file:\n",
    "            writer = csv.writer(out_file)\n",
    "            writer.writerow(final)\n"
   ]
  },
  {
   "cell_type": "code",
   "execution_count": null,
   "metadata": {},
   "outputs": [],
   "source": []
  }
 ],
 "metadata": {
  "kernelspec": {
   "display_name": "Python 3",
   "language": "python",
   "name": "python3"
  },
  "language_info": {
   "codemirror_mode": {
    "name": "ipython",
    "version": 3
   },
   "file_extension": ".py",
   "mimetype": "text/x-python",
   "name": "python",
   "nbconvert_exporter": "python",
   "pygments_lexer": "ipython3",
   "version": "3.6.8"
  }
 },
 "nbformat": 4,
 "nbformat_minor": 2
}
