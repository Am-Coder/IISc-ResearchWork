{
 "cells": [
  {
   "cell_type": "code",
   "execution_count": 1,
   "metadata": {},
   "outputs": [],
   "source": [
    "import csv"
   ]
  },
  {
   "cell_type": "code",
   "execution_count": 2,
   "metadata": {},
   "outputs": [],
   "source": [
    "source = 'E:/games/IISc-May-2019/HAPT Data Set/AugmentedData/200feature/'\n",
    "dest = 'E:/games/IISc-May-2019/HAPT Data Set/FeatureSet/'\n"
   ]
  },
  {
   "cell_type": "code",
   "execution_count": 3,
   "metadata": {},
   "outputs": [],
   "source": [
    "for i in range(1,13):\n",
    "    target = source + str(i) + '_AugSpectroFeatures.csv'\n",
    "\n",
    "    with open (dest+'200feature_Dataset.csv','a',newline='') as out_file:\n",
    "        writer = csv.writer(out_file)\n",
    "        reader = csv.reader(open(target, 'r'))\n",
    "        for row in reader:\n",
    "            writer.writerow(row)\n",
    "        "
   ]
  },
  {
   "cell_type": "code",
   "execution_count": null,
   "metadata": {},
   "outputs": [],
   "source": [
    "\n"
   ]
  }
 ],
 "metadata": {
  "kernelspec": {
   "display_name": "Python 3",
   "language": "python",
   "name": "python3"
  },
  "language_info": {
   "codemirror_mode": {
    "name": "ipython",
    "version": 3
   },
   "file_extension": ".py",
   "mimetype": "text/x-python",
   "name": "python",
   "nbconvert_exporter": "python",
   "pygments_lexer": "ipython3",
   "version": "3.6.8"
  }
 },
 "nbformat": 4,
 "nbformat_minor": 2
}
