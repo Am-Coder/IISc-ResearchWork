{
 "cells": [
  {
   "cell_type": "code",
   "execution_count": 124,
   "metadata": {},
   "outputs": [],
   "source": [
    "import csv\n",
    "import pandas as pd"
   ]
  },
  {
   "cell_type": "code",
   "execution_count": 125,
   "metadata": {},
   "outputs": [],
   "source": [
    "label_path = 'E:/games/IISc-May-2019/HAPT Data Set/RawCSV/labels.csv'\n",
    "target ='E:/games/IISc-May-2019/HAPT Data Set/RawCSV/' \n",
    "dest = 'E:/games/IISc-May-2019/HAPT Data Set/MyLab/'\n",
    "\n",
    "acc = 'acc_exp'\n",
    "end = '_user'\n",
    "gyro = 'gyro_exp'\n",
    "\n",
    "# df2 = pd.read_csv(target+acc+'01'+end+'01'+'.csv')\n",
    "df1 = pd.read_csv(label_path)\n",
    "# print(df1[ df1.uid>2 ])\n",
    "# print(df2.iloc[[0],[0]])\n",
    "# print(df1.loc[[3],['eid']])\n",
    "# z = df2.loc[2:21,:]\n",
    "# for y in z:\n",
    "#     print(z[y])\n",
    "# print(len(z))\n",
    "# print(z)\n",
    "# print(df1.ix[0,'eid'])\n",
    "# for x in df1:\n",
    "#     print(x)"
   ]
  },
  {
   "cell_type": "code",
   "execution_count": null,
   "metadata": {},
   "outputs": [],
   "source": [
    "# Where ever my lablel is walking in df1 extract corresponding range from df2\n"
   ]
  },
  {
   "cell_type": "code",
   "execution_count": 126,
   "metadata": {},
   "outputs": [
    {
     "data": {
      "text/plain": [
       "(1214, 5)"
      ]
     },
     "execution_count": 126,
     "metadata": {},
     "output_type": "execute_result"
    }
   ],
   "source": [
    "row = df1.shape[0]\n",
    "col = df1.shape[1]\n",
    "coll = []\n",
    "row,col"
   ]
  },
  {
   "cell_type": "code",
   "execution_count": 127,
   "metadata": {},
   "outputs": [],
   "source": [
    "def create(eid, uid, start, end, path, check, mylabel):\n",
    "        \n",
    "    df = pd.read_csv(path);\n",
    "    selection = df.loc[ start-1:end-1 , : ];\n",
    "    if (check==0):\n",
    "        with open(dest + str(mylabel) + '_acc.csv', 'a', newline='') as out_file:\n",
    "            writer = csv.writer(out_file)\n",
    "            writer.writerow(('ax', 'ay','az'))\n",
    "            for i in range(start-1, end):\n",
    "                writer.writerow((selection.ax[i], selection.ay[i], selection.az[i]))\n",
    "                \n",
    "                \n",
    "    elif (check == 1):\n",
    "        with open(dest + str(mylabel) + '_gyro.csv', 'a', newline='') as out_file:\n",
    "            writer = csv.writer(out_file)\n",
    "            writer.writerow(('wx','wy','wz'))\n",
    "            for i in range(start-1, end):\n",
    "                writer.writerow((selection.wx[i], selection.wy[i], selection.wz[i]))"
   ]
  },
  {
   "cell_type": "code",
   "execution_count": 128,
   "metadata": {
    "scrolled": false
   },
   "outputs": [
    {
     "name": "stdout",
     "output_type": "stream",
     "text": [
      "1\n"
     ]
    },
    {
     "name": "stderr",
     "output_type": "stream",
     "text": [
      "C:\\Users\\HP\\Anaconda3\\lib\\site-packages\\ipykernel_launcher.py:5: DeprecationWarning: \n",
      ".ix is deprecated. Please use\n",
      ".loc for label based indexing or\n",
      ".iloc for positional indexing\n",
      "\n",
      "See the documentation here:\n",
      "http://pandas.pydata.org/pandas-docs/stable/indexing.html#ix-indexer-is-deprecated\n",
      "  \"\"\"\n"
     ]
    },
    {
     "name": "stdout",
     "output_type": "stream",
     "text": [
      "2\n",
      "3\n",
      "4\n",
      "5\n",
      "6\n",
      "7\n",
      "8\n",
      "9\n",
      "10\n",
      "11\n",
      "12\n"
     ]
    }
   ],
   "source": [
    "for mylabel in range(1,13):\n",
    "    print(mylabel)\n",
    "    del(coll[:])\n",
    "    for i in range(row):\n",
    "        x = df1.ix[i]\n",
    "    #     print(x.eid)\n",
    "        if(x.label == mylabel):\n",
    "            eid = x.eid\n",
    "            uid = x.uid\n",
    "    #         print(eid,uid)\n",
    "\n",
    "            if(eid <= 9 and uid <= 9):\n",
    "                pathacc = target + acc +'0' + str(eid) + end + '0' + str(uid) + '.csv'\n",
    "                pathgyro = target + gyro +'0' + str(eid) + end + '0' + str(uid) + '.csv'\n",
    "\n",
    "                if coll.count(pathacc) == 0:\n",
    "    #                 print(pathacc)\n",
    "    #                 print(pathgyro)\n",
    "                    coll.append(pathacc)\n",
    "                    create(eid, uid, x.start, x.end, pathacc, 0, mylabel)\n",
    "                    create(eid, uid, x.start, x.end, pathgyro, 1, mylabel)\n",
    "\n",
    "            elif(eid >9 and uid <= 9):\n",
    "                pathacc = target + acc + str(eid) + end + '0' + str(uid) + '.csv'\n",
    "                pathgyro = target + gyro + str(eid) + end + '0' + str(uid) + '.csv'\n",
    "\n",
    "                if coll.count(pathacc) == 0:\n",
    "    #                 print(pathacc)\n",
    "    #                 print(pathgyro)\n",
    "                    coll.append(pathacc)\n",
    "                    create(eid, uid, x.start, x.end, pathacc, 0, mylabel)\n",
    "                    create(eid, uid, x.start, x.end, pathgyro, 1, mylabel)\n",
    "\n",
    "            else:\n",
    "                pathacc = target + acc + str(eid) + end + str(uid) + '.csv'\n",
    "                pathgyro = target + gyro + str(eid) + end + str(uid) + '.csv'\n",
    "\n",
    "                if coll.count(pathacc) == 0:\n",
    "    #                 print(pathacc)\n",
    "    #                 print(pathgyro)\n",
    "                    coll.append(pathacc)\n",
    "                    create(eid, uid, x.start, x.end, pathacc, 0, mylabel)\n",
    "                    create(eid, uid, x.start, x.end, pathgyro, 1, mylabel)\n",
    "\n"
   ]
  },
  {
   "cell_type": "code",
   "execution_count": 123,
   "metadata": {},
   "outputs": [
    {
     "name": "stdout",
     "output_type": "stream",
     "text": [
      "1\n",
      "2\n",
      "3\n",
      "4\n",
      "5\n",
      "6\n",
      "7\n",
      "8\n",
      "9\n",
      "10\n",
      "11\n",
      "12\n"
     ]
    }
   ],
   "source": []
  },
  {
   "cell_type": "code",
   "execution_count": 122,
   "metadata": {},
   "outputs": [
    {
     "data": {
      "text/plain": [
       "[]"
      ]
     },
     "execution_count": 122,
     "metadata": {},
     "output_type": "execute_result"
    }
   ],
   "source": []
  },
  {
   "cell_type": "code",
   "execution_count": null,
   "metadata": {},
   "outputs": [],
   "source": []
  }
 ],
 "metadata": {
  "kernelspec": {
   "display_name": "Python 3",
   "language": "python",
   "name": "python3"
  },
  "language_info": {
   "codemirror_mode": {
    "name": "ipython",
    "version": 3
   },
   "file_extension": ".py",
   "mimetype": "text/x-python",
   "name": "python",
   "nbconvert_exporter": "python",
   "pygments_lexer": "ipython3",
   "version": "3.6.8"
  }
 },
 "nbformat": 4,
 "nbformat_minor": 2
}
