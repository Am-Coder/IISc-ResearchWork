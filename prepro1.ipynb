{
 "cells": [
  {
   "cell_type": "code",
   "execution_count": 334,
   "metadata": {},
   "outputs": [],
   "source": [
    "import numpy as np\n",
    "import pandas as pd\n",
    "from scipy import signal\n",
    "import matplotlib.pyplot as plt\n",
    "    "
   ]
  },
  {
   "cell_type": "code",
   "execution_count": 340,
   "metadata": {},
   "outputs": [
    {
     "name": "stdout",
     "output_type": "stream",
     "text": [
      "(20598,)\n"
     ]
    }
   ],
   "source": [
    "df1 = pd.read_csv(\"E:/games/IISc-May-2019/HAPT Data Set/RawCSV/acc_exp01_user01.csv\")\n",
    "df2 = pd.read_csv(\"E:/games/IISc-May-2019/HAPT Data Set/RawCSV/gyro_exp01_user01.csv\")\n",
    "df3 = pd.read_csv(\"E:/games/IISc-May-2019/HAPT Data Set/RawCSV/labels.csv\")\n",
    "fs =50\n",
    "x=df2[\"wx\"]\n",
    "print(x.shape)"
   ]
  },
  {
   "cell_type": "code",
   "execution_count": 341,
   "metadata": {},
   "outputs": [],
   "source": [
    "f, t, Sxx = signal.spectrogram(x, fs=fs,window=signal.get_window('hann',512),noverlap=256)\n"
   ]
  },
  {
   "cell_type": "code",
   "execution_count": 342,
   "metadata": {},
   "outputs": [
    {
     "name": "stdout",
     "output_type": "stream",
     "text": [
      "[  5.12  10.24  15.36  20.48  25.6   30.72  35.84  40.96  46.08  51.2\n",
      "  56.32  61.44  66.56  71.68  76.8   81.92  87.04  92.16  97.28 102.4\n",
      " 107.52 112.64 117.76 122.88 128.   133.12 138.24 143.36 148.48 153.6\n",
      " 158.72 163.84 168.96 174.08 179.2  184.32 189.44 194.56 199.68 204.8\n",
      " 209.92 215.04 220.16 225.28 230.4  235.52 240.64 245.76 250.88 256.\n",
      " 261.12 266.24 271.36 276.48 281.6  286.72 291.84 296.96 302.08 307.2\n",
      " 312.32 317.44 322.56 327.68 332.8  337.92 343.04 348.16 353.28 358.4\n",
      " 363.52 368.64 373.76 378.88 384.   389.12 394.24 399.36 404.48]\n"
     ]
    }
   ],
   "source": [
    "print(f)"
   ]
  },
  {
   "cell_type": "code",
   "execution_count": 343,
   "metadata": {},
   "outputs": [
    {
     "data": {
      "image/png": "[encoded data removed]",
      "text/plain": [
       "<Figure size 432x288 with 1 Axes>"
      ]
     },
     "metadata": {
      "needs_background": "light"
     },
     "output_type": "display_data"
    }
   ],
   "source": [
    "plt.pcolormesh(t, f, Sxx)\n",
    "plt.ylabel('Frequency [Hz]')\n",
    "plt.xlabel('Time [sec]')\n",
    "plt.show()"
   ]
  },
  {
   "cell_type": "code",
   "execution_count": null,
   "metadata": {},
   "outputs": [],
   "source": []
  }
 ],
 "metadata": {
  "kernelspec": {
   "display_name": "Python 3",
   "language": "python",
   "name": "python3"
  },
  "language_info": {
   "codemirror_mode": {
    "name": "ipython",
    "version": 3
   },
   "file_extension": ".py",
   "mimetype": "text/x-python",
   "name": "python",
   "nbconvert_exporter": "python",
   "pygments_lexer": "ipython3",
   "version": "3.6.8"
  }
 },
 "nbformat": 4,
 "nbformat_minor": 2
}
