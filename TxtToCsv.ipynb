{
 "cells": [
  {
   "cell_type": "code",
   "execution_count": 29,
   "metadata": {},
   "outputs": [],
   "source": [
    "import csv\n",
    "import os"
   ]
  },
  {
   "cell_type": "code",
   "execution_count": 48,
   "metadata": {},
   "outputs": [],
   "source": [
    "def convert_csv (spath,dpath,file,check):\n",
    "    with open(spath+file+'.txt', 'r') as in_file:\n",
    "        with open(dpath+file+'.csv', 'w',newline='') as out_file:\n",
    "            writer = csv.writer(out_file)\n",
    "            if (check == 0) :\n",
    "                writer.writerow(('ax', 'ay','az'))\n",
    "            else :\n",
    "                writer.writerow(('wx','wy','wz'))\n",
    "            for line in in_file:\n",
    "                lines = line.split(\"\\n\")\n",
    "                lines = lines[0].split(\" \")\n",
    "                writer.writerow(lines)\n",
    "\n",
    "\n",
    "        \n",
    "    \n",
    "\n"
   ]
  },
  {
   "cell_type": "code",
   "execution_count": 53,
   "metadata": {},
   "outputs": [],
   "source": [
    "path = 'E:/games/IISc-May-2019/HAPT Data Set/RawData/'\n",
    "dest = 'E:/games/IISc-May-2019/HAPT Data Set/RawCSV/'\n",
    "for x in os.listdir(path):\n",
    "    str = x[0:3]\n",
    "    if(str == \"gyr\"):\n",
    "        convert_csv(path,dest,x[0:len(x)-4],1)\n",
    "    elif(str == \"acc\"):\n",
    "        convert_csv(path,dest,x[0:len(x)-4],0)\n"
   ]
  },
  {
   "cell_type": "code",
   "execution_count": null,
   "metadata": {},
   "outputs": [],
   "source": []
  }
 ],
 "metadata": {
  "kernelspec": {
   "display_name": "Python 3",
   "language": "python",
   "name": "python3"
  },
  "language_info": {
   "codemirror_mode": {
    "name": "ipython",
    "version": 3
   },
   "file_extension": ".py",
   "mimetype": "text/x-python",
   "name": "python",
   "nbconvert_exporter": "python",
   "pygments_lexer": "ipython3",
   "version": "3.6.8"
  }
 },
 "nbformat": 4,
 "nbformat_minor": 2
}
